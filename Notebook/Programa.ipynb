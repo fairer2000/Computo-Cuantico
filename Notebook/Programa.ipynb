{
 "cells": [
  {
   "cell_type": "code",
   "execution_count": 5,
   "id": "662d69f5",
   "metadata": {},
   "outputs": [
    {
     "name": "stdout",
     "output_type": "stream",
     "text": [
      "Signo (+ ó -) para |00>: +\n",
      "Signo (+ ó -) para |01>: -\n",
      "Signo (+ ó -) para |10>: -\n",
      "Signo (+ ó -) para |11>: +\n",
      "\n",
      "Estado\n",
      " Quantum object: dims = [[2, 2], [2, 2]], shape = (4, 1), type = oper, isherm = False\n",
      "Qobj data =\n",
      "[[ 0.49999999]\n",
      " [-0.49999999]\n",
      " [-0.49999999]\n",
      " [ 0.49999999]]\n",
      "\n",
      "Matriz del operador de densidad\n",
      " Quantum object: dims = [[2, 2], [2, 2]], shape = (4, 4), type = oper, isherm = True\n",
      "Qobj data =\n",
      "[[ 0.24999999 -0.24999999 -0.24999999  0.24999999]\n",
      " [-0.24999999  0.24999999  0.24999999 -0.24999999]\n",
      " [-0.24999999  0.24999999  0.24999999 -0.24999999]\n",
      " [ 0.24999999 -0.24999999 -0.24999999  0.24999999]]\n",
      "\n",
      "Matriz de la transposicion parcial\n",
      " Quantum object: dims = [[2, 2], [2, 2]], shape = (4, 4), type = oper, isherm = True\n",
      "Qobj data =\n",
      "[[ 0.24999999 -0.24999999 -0.24999999  0.24999999]\n",
      " [-0.24999999  0.24999999  0.24999999 -0.24999999]\n",
      " [-0.24999999  0.24999999  0.24999999 -0.24999999]\n",
      " [ 0.24999999 -0.24999999 -0.24999999  0.24999999]]\n",
      "\n",
      "Eigenvalores: [0. 1. 0. 0.]\n",
      "\n",
      "Aplicando la condición de transposición parcial de Peres, los eigenvalores son mayores o iguales a 0,\n",
      "entonces es un estado separable.\n"
     ]
    },
    {
     "name": "stderr",
     "output_type": "stream",
     "text": [
      "<ipython-input-5-b84aea84b3d3>:39: ComplexWarning: Casting complex values to real discards the imaginary part\n",
      "  state_arr = np.stack(state_partial_transpose).astype(None)\n"
     ]
    }
   ],
   "source": [
    "from qutip import *\n",
    "import numpy as np\n",
    "from numpy.linalg import eig\n",
    "import math\n",
    "\n",
    "sig_1 = \"\"\n",
    "sig_2 = \"\"\n",
    "sig_3 = \"\"\n",
    "sig_4 = \"\"\n",
    "sig_1 = input(\"Signo (+ ó -) para |00>: \")\n",
    "sig_1 = sig_1 + \"1\"\n",
    "sig_2 = input(\"Signo (+ ó -) para |01>: \")\n",
    "sig_2 = sig_2 + \"1\"\n",
    "sig_3 = input(\"Signo (+ ó -) para |10>: \")\n",
    "sig_3 = sig_3 + \"1\"\n",
    "sig_4 = input(\"Signo (+ ó -) para |11>: \")\n",
    "sig_4 = sig_4 + \"1\"\n",
    "\n",
    "ket_1 = 0\n",
    "ket_2 = 0\n",
    "ket_3 = 0\n",
    "ket_4 = 0\n",
    "ket_1 = int(sig_1) #Se hará un casteo para almacenar el número 1 con el signo (+ o -) dado por el usuario.\n",
    "ket_2 = int(sig_2)\n",
    "ket_3 = int(sig_3)\n",
    "ket_4 = int(sig_4)\n",
    "\n",
    "state = Qobj([[ket_1,ket_2,ket_3,ket_4]],dims=[[2, 2], [2, 2]]) #Se creara el estado.\n",
    "state = state.dag()\n",
    "state = state.unit() #Para apegarnos al ejemplo del libro, se aplica la función unit para normalizar el estado.\n",
    "print(\"\\nEstado\\n\",state)\n",
    "\n",
    "state_density = state * state.dag()\n",
    "print(\"\\nMatriz del operador de densidad\\n\",state_density)\n",
    "\n",
    "state_partial_transpose = partial_transpose(state_density, [0,1])\n",
    "print(\"\\nMatriz de la transposicion parcial\\n\",state_partial_transpose)\n",
    "\n",
    "state_arr = np.stack(state_partial_transpose).astype(None)\n",
    "state_arr\n",
    "\n",
    "state_arr_conv = state_arr.reshape(4,2*2)\n",
    "\n",
    "state_around = np.around(state_arr_conv,decimals=2)\n",
    "\n",
    "w,v=eig(state_around)\n",
    "print('\\nEigenvalores:', w)\n",
    "\n",
    "count = 0\n",
    "for x in w:\n",
    "    if x >= 0:\n",
    "        count+=1\n",
    "if count == len(w):\n",
    "    print(\"\\nAplicando la condición de transposición parcial de Peres, los eigenvalores son mayores o iguales a 0,\\nentonces es un estado separable.\")\n",
    "else:\n",
    "    print(\"\\nAplicando la condición de transposición parcial de Peres, hay algún eigenvalor negativo,\\nentonces es un estado entrelazado (entangled)\")"
   ]
  },
  {
   "cell_type": "code",
   "execution_count": null,
   "id": "1e84b281",
   "metadata": {},
   "outputs": [],
   "source": []
  }
 ],
 "metadata": {
  "kernelspec": {
   "display_name": "Python 3 (ipykernel)",
   "language": "python",
   "name": "python3"
  },
  "language_info": {
   "codemirror_mode": {
    "name": "ipython",
    "version": 3
   },
   "file_extension": ".py",
   "mimetype": "text/x-python",
   "name": "python",
   "nbconvert_exporter": "python",
   "pygments_lexer": "ipython3",
   "version": "3.9.7"
  }
 },
 "nbformat": 4,
 "nbformat_minor": 5
}
